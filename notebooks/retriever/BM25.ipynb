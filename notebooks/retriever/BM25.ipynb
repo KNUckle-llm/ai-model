{
  "cells": [
    {
      "cell_type": "markdown",
      "metadata": {
        "id": "view-in-github",
        "colab_type": "text"
      },
      "source": [
        "<a href=\"https://colab.research.google.com/github/KNUckle-llm/experiments/blob/main/notebooks/retriever/BM25.ipynb\" target=\"_parent\"><img src=\"https://colab.research.google.com/assets/colab-badge.svg\" alt=\"Open In Colab\"/></a>"
      ]
    },
    {
      "cell_type": "markdown",
      "source": [
        "# [**Okapi BM25**](https://en.wikipedia.org/wiki/Okapi_BM25)\n",
        "_BM_ 은 best matching의 약어로 확률적 정보 검색(IR: Information Retrieval) 및 키워드 검색에서 널리 쓰이는 문서 랭킹 함수이다.\n",
        "\n",
        "## How\n",
        "1. 쿼리에서 등장하는 단어가 문서에서 얼마나 자주 등장하는지 **(TF: Term Frequency)**\n",
        "2. 그 단어가 전체 문서에서 얼마나 희귀한지 **(IDF: Inverse Document Frequency)**\n",
        "3. 문서의 길이에 따라 가중치 부여 (길이가 긴 문서는 점수를 낮추는 방식)\n",
        "\n",
        "</br>\n",
        "$$\n",
        "\\text{score}(D, Q) = \\sum_{i=1}^{n} \\text{IDF}(q_i) \\cdot\n",
        "\\frac{f(q_i, D) \\cdot (k_1 + 1)}\n",
        "{f(q_i, D) + k_1 \\cdot \\left(1 - b + b \\cdot \\frac{|D|}{\\text{avgdl}}\\right)}\n",
        "$$\n",
        "</br>\n",
        "\n",
        "- $f(q_i, D)$ : 문서 $D$ 내의 특정 단어 $q_i$가 나타내는 횟수(TF)\n",
        "- $|D|$ : 문서 $D$의 길이\n",
        "- avgdl : 전체 문서의 평균 길이\n",
        "- $k_1$과 $b$ : hyper parameters\n",
        "  - $k_1$ : 키워드의 빈도에 따른 점수 영향력 억제, 무분별한 키워드 빈도 수 증가에 따른 중요도 향상 억제한다. (default 1.2 ~ 2.0)\n",
        "  - $b$ : 문서 길이에 대한 중요도 제한, 짧은 문서에 특정 단어가 존재하면 중요도를 높게 평가한다. (default 0.75)\n",
        "\n",
        "</br>\n",
        "$$\n",
        "\\text{IDF}(q_i) = \\ln \\left( \\frac{N - n(q_i) + 0.5}{n(q_i) + 0.5} + 1 \\right)\n",
        "$$\n",
        "</br>\n",
        "\n",
        "- $N$ : 전체 문서 수\n",
        "- $n(q_i)$ : 단어 $q_i$를 포함하는 문서의 수\n",
        "- IDF(Inverse Document Frequency)는 특정 단어 $q_i$가 모든 문서에 존재한다면 중요하지 않다고 여기고 특정 문서에만 존재하는 단어라면 중요하다고 평가한다. **IDF가 낮으면 중요도가 낮고, IDF가 높으면 중요도가 높다.**\n"
      ],
      "metadata": {
        "id": "XkN3mpxPXIYn"
      }
    },
    {
      "cell_type": "code",
      "execution_count": 1,
      "metadata": {
        "id": "oIkCBPyXW0Fw"
      },
      "outputs": [],
      "source": [
        "# BM25 from Scratch\n",
        "import math\n",
        "from collections import Counter\n",
        "\n",
        "class BM25:\n",
        "  def __init__(self, corpus, k1=1.2, b=0.75):\n",
        "    self.corpus = corpus\n",
        "    self.k1 = k1\n",
        "    self.b = b\n",
        "    self.N = len(corpus)\n",
        "    self.avgdl = sum(len(doc) for doc in corpus) / self.N\n",
        "    self.df = self._calculate_df()\n",
        "    self.idf = self._calculate_idf()\n",
        "\n",
        "  # Python에서 함수 앞에 _는 private이라는 관용 표현, 외부에서 호출하지 않는다는 의미\n",
        "  ## Document Frequency\n",
        "  def _calculate_df(self):\n",
        "    df = {}\n",
        "    for doc in self.corpus:\n",
        "      for word in set(doc):\n",
        "        # 딕셔너리 df에 word 키가 이미 있으면 +1, 없으면 0 + 1로 새로 추가\n",
        "        df[word] = df.get(word, 0) + 1\n",
        "    return df\n",
        "\n",
        "  #Inverted Document Frequency\n",
        "  def _calculate_idf(self):\n",
        "    idf = {}\n",
        "    for term, df in self.df.items():\n",
        "        idf[term] = math.log((self.N - df + 0.5) / (df + 0.5) + 1)\n",
        "    return idf\n",
        "\n",
        "  def get_scores(self, query, doc_index):\n",
        "    doc = self.corpus[doc_index]\n",
        "    doc_len = len(doc)\n",
        "    tf = Counter(doc)\n",
        "    score = 0.0\n",
        "\n",
        "    for q in query:\n",
        "        if q not in tf:\n",
        "            continue\n",
        "        idf = self.idf.get(q, 0)\n",
        "        freq = tf[q]\n",
        "        denom = freq + self.k1 * (1 - self.b + self.b * (doc_len / self.avgdl))\n",
        "        score += idf * ((freq * (self.k1 + 1)) / denom)\n",
        "    return score\n",
        "\n",
        "  def get_top_k(self, query, k=3):\n",
        "    scores = [(i, self.get_scores(query, i)) for i in range(self.N)]\n",
        "    return sorted(scores, key=lambda x: x[1], reverse=True)[:k]"
      ]
    },
    {
      "cell_type": "code",
      "source": [
        "corpus = [\n",
        "    \"the cat in the hat\".split(),\n",
        "    \"the quick brown fox\".split(),\n",
        "    \"the lazy dog and the fox\".split()\n",
        "]\n",
        "\n",
        "query = \"fox and dog\"\n",
        "\n",
        "bm25 = BM25(corpus)\n",
        "top_docs = bm25.get_top_k(query.split())\n",
        "\n",
        "for idx, score in top_docs:\n",
        "    print(f\"Doc {idx}: {corpus[idx]} → Score: {score:.4f}\")"
      ],
      "metadata": {
        "colab": {
          "base_uri": "https://localhost:8080/"
        },
        "id": "zIZe1AQ-YPSm",
        "outputId": "e381a326-8382-49d5-d3c8-ff75244ac1ee"
      },
      "execution_count": 2,
      "outputs": [
        {
          "output_type": "stream",
          "name": "stdout",
          "text": [
            "Doc 2: ['the', 'lazy', 'dog', 'and', 'the', 'fox'] → Score: 2.2478\n",
            "Doc 1: ['the', 'quick', 'brown', 'fox'] → Score: 0.5119\n",
            "Doc 0: ['the', 'cat', 'in', 'the', 'hat'] → Score: 0.0000\n"
          ]
        }
      ]
    },
    {
      "cell_type": "markdown",
      "source": [
        "## **사용 사례**\n",
        "- 검색 엔진의 기본 스코어링 알고리즘으로 채택\n",
        "  - ElasticSearch, Whoosh 등\n",
        "  - 키워드 기반의 문서 검색, 뉴스 검색, 제품 검색 등에 유용\n",
        "- RAG에서 초기 후보 문서 추출\n",
        "  - LLM 기반 시스템에서 빠르고 정확한 초기 필터링 역할\n",
        "\n",
        "## **한계**\n",
        "- ❌ 의미 기반 검색 불가\n",
        "  - \"강아지\" vs \"개\", \"자동차\" vs \"차량\" → 단어가 다르면 매칭 불가\n",
        "  - 동의어, 유사 개념, 문맥 이해 없음\n",
        "\n",
        "- 🧠 벡터 의미 정보 없음\n",
        "  - 단순히 단어 빈도 기반으로만 점수를 계산함\n",
        "  - 문장 전체 의미를 파악하지 못함\n",
        "\n",
        "RAG에서는 이러한 한계점을 극복하기 위해 **의미 기반 검색 기술을 혼합하여 Hybrid Search를 이용**한다."
      ],
      "metadata": {
        "id": "rxL4uso0X_dt"
      }
    },
    {
      "cell_type": "markdown",
      "source": [
        "# **BM25 라이브러리**\n",
        "이전에는 BM25를 직접 구현해보았다면, 이제부터는 BM25를 미리 구현한 라이브러리나 탑재된 검색기에는 어떤 것이 있는지 확인해본다.\n",
        "\n",
        "## **rank_bm25**\n",
        "- BM25Okapi, BM25Plus, BM25L 지원\n",
        "- 사용법이 매우 간단해서 빠르게 실험 가능"
      ],
      "metadata": {
        "id": "1VBYByCWcrrz"
      }
    },
    {
      "cell_type": "code",
      "source": [
        "#!pip install -q rank_bm25"
      ],
      "metadata": {
        "id": "nf3cTVM_eD0t"
      },
      "execution_count": 4,
      "outputs": []
    },
    {
      "cell_type": "code",
      "source": [
        "from rank_bm25 import BM25Okapi\n",
        "\n",
        "corpus = [doc.split() for doc in [\"the cat in the hat\", \"a quick brown fox\", \"lazy dog and fox\"]]\n",
        "bm25 = BM25Okapi(corpus)\n",
        "\n",
        "query = \"fox and dog\".split()\n",
        "scores = bm25.get_scores(query)\n",
        "\n",
        "print(scores)"
      ],
      "metadata": {
        "colab": {
          "base_uri": "https://localhost:8080/"
        },
        "id": "OyhxEJv6Yjxc",
        "outputId": "138c132e-76e9-4225-c35c-abccf984a4b0"
      },
      "execution_count": 6,
      "outputs": [
        {
          "output_type": "stream",
          "name": "stdout",
          "text": [
            "[0.         0.10823361 1.16651777]\n"
          ]
        }
      ]
    },
    {
      "cell_type": "markdown",
      "source": [
        "## **ElasticSearch**\n",
        "- 오픈소스 검색 서버\n",
        "- 기본 점수 계산 모델이 BM25\n",
        "- 역색인, 랭킹, 페이징 등 고급 기능 포함\n",
        "- 실제 서비스에 검색 기능 붙일 때 대규모 문서나 웹 문서 검색에 적합"
      ],
      "metadata": {
        "id": "MO__2W2SeN-E"
      }
    },
    {
      "cell_type": "code",
      "source": [
        "#!pip install elasticsearch"
      ],
      "metadata": {
        "id": "rP_V2Efree5p"
      },
      "execution_count": null,
      "outputs": []
    },
    {
      "cell_type": "code",
      "source": [
        "# from elasticsearch import Elasticsearch\n",
        "\n",
        "# es = Elasticsearch()\n",
        "# query = {\n",
        "#   \"query\": {\n",
        "#     \"match\": {\n",
        "#       \"content\": \"fox and dog\"\n",
        "#     }\n",
        "#   }\n",
        "# }\n",
        "# es.search(index=\"my_index\", body=query)"
      ],
      "metadata": {
        "id": "ehQqLvgQeFyW"
      },
      "execution_count": 9,
      "outputs": []
    }
  ],
  "metadata": {
    "language_info": {
      "name": "python"
    },
    "colab": {
      "provenance": [],
      "include_colab_link": true
    },
    "kernelspec": {
      "name": "python3",
      "display_name": "Python 3"
    }
  },
  "nbformat": 4,
  "nbformat_minor": 0
}